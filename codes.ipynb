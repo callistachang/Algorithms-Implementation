{
 "cells": [
  {
   "cell_type": "code",
   "execution_count": 1,
   "metadata": {},
   "outputs": [],
   "source": [
    "arr1 = [2, 5, 1, 2, 7, 2, 3, 9, 10, 99, 1, 3, 5]\n",
    "arr2 = [1, 1, 2, 3, 8, 9, 10, 11, 14, 15, 15, 15, 18]"
   ]
  },
  {
   "attachments": {
    "image.png": {
     "image/png": "[encoded data removed]"
    }
   },
   "cell_type": "markdown",
   "metadata": {},
   "source": [
    "## Sequential Search\n",
    "\n",
    "**Best Case Scenario**: Omega(1)\n",
    "\n",
    "**Worst Case Scenario**: O(n)\n",
    "\n",
    "**Average Case Scenario**: Theta(n) >>> (3/4n + 1/4) comparisons for equal probability of successful and unsuccessful search\n",
    "\n",
    "![image.png](attachment:image.png)"
   ]
  },
  {
   "cell_type": "code",
   "execution_count": 2,
   "metadata": {},
   "outputs": [],
   "source": [
    "def sequential_search(arr, key):\n",
    "    for i in range(len(arr)):\n",
    "        if arr[i] == key:\n",
    "            return True\n",
    "    return False"
   ]
  },
  {
   "cell_type": "code",
   "execution_count": 3,
   "metadata": {
    "scrolled": true
   },
   "outputs": [
    {
     "data": {
      "text/plain": [
       "False"
      ]
     },
     "execution_count": 3,
     "metadata": {},
     "output_type": "execute_result"
    }
   ],
   "source": [
    "# Unsuccessful search\n",
    "sequential_search(arr1, 20)"
   ]
  },
  {
   "cell_type": "code",
   "execution_count": 4,
   "metadata": {
    "scrolled": true
   },
   "outputs": [
    {
     "data": {
      "text/plain": [
       "True"
      ]
     },
     "execution_count": 4,
     "metadata": {},
     "output_type": "execute_result"
    }
   ],
   "source": [
    "# Successful search\n",
    "sequential_search(arr1, 99)"
   ]
  },
  {
   "cell_type": "markdown",
   "metadata": {},
   "source": [
    "## Binary Search\n",
    "\n",
    "**Best Case Scenario**: Omega(1)\n",
    "\n",
    "**Worst Case Scenario**: O(lg(n))\n",
    "\n",
    "**Average Case Scenario**: Theta(lg(n))\n",
    "\n",
    "Description: Look at the middle element. If it is the key, yay! If key < middle element, look at the left partition. If key > middle element, look at the right partition."
   ]
  },
  {
   "cell_type": "code",
   "execution_count": 5,
   "metadata": {},
   "outputs": [],
   "source": [
    "def binary_search(arr, key):\n",
    "    first_pos = 0\n",
    "    last_pos = len(arr) - 1\n",
    "    found = False\n",
    "    \n",
    "    while first_pos <= last_pos and not found:\n",
    "        mid_pos = (first_pos + last_pos) // 2\n",
    "        if arr[mid_pos] == key:\n",
    "            found = True\n",
    "        elif key < arr[mid_pos]:\n",
    "            last_pos = mid_pos - 1\n",
    "        elif key > arr[mid_pos]:\n",
    "            first_pos = mid_pos + 1\n",
    "        \n",
    "    return found"
   ]
  },
  {
   "cell_type": "code",
   "execution_count": 6,
   "metadata": {},
   "outputs": [
    {
     "data": {
      "text/plain": [
       "False"
      ]
     },
     "execution_count": 6,
     "metadata": {},
     "output_type": "execute_result"
    }
   ],
   "source": [
    "# Unsuccessful search\n",
    "binary_search(arr2, 20)"
   ]
  },
  {
   "cell_type": "code",
   "execution_count": 7,
   "metadata": {},
   "outputs": [
    {
     "data": {
      "text/plain": [
       "True"
      ]
     },
     "execution_count": 7,
     "metadata": {},
     "output_type": "execute_result"
    }
   ],
   "source": [
    "# Succesful search\n",
    "binary_search(arr2, 2)"
   ]
  },
  {
   "cell_type": "code",
   "execution_count": 8,
   "metadata": {},
   "outputs": [],
   "source": [
    "def recursive_binary_search(arr, first_pos, last_pos, key):\n",
    "    # Unsuccessful search\n",
    "    if last_pos < first_pos:\n",
    "        return False\n",
    "    else:\n",
    "        mid_pos = (first_pos + last_pos) // 2\n",
    "        if key == arr[mid_pos]:\n",
    "            return True\n",
    "        elif key < arr[mid_pos]:\n",
    "            return recursive_binary_search(arr, first_pos, mid_pos-1, key)\n",
    "        elif key > arr[mid_pos]:\n",
    "            return recursive_binary_search(arr, mid_pos+1, last_pos, key)\n",
    "        \n",
    "first_pos = 0\n",
    "last_pos = len(arr2) - 1"
   ]
  },
  {
   "cell_type": "code",
   "execution_count": 9,
   "metadata": {
    "scrolled": true
   },
   "outputs": [
    {
     "data": {
      "text/plain": [
       "False"
      ]
     },
     "execution_count": 9,
     "metadata": {},
     "output_type": "execute_result"
    }
   ],
   "source": [
    "# Unsuccessful search\n",
    "recursive_binary_search(arr2, first_pos, last_pos, 20)"
   ]
  },
  {
   "cell_type": "code",
   "execution_count": 10,
   "metadata": {},
   "outputs": [
    {
     "data": {
      "text/plain": [
       "True"
      ]
     },
     "execution_count": 10,
     "metadata": {},
     "output_type": "execute_result"
    }
   ],
   "source": [
    "# Successful search\n",
    "recursive_binary_search(arr2, first_pos, last_pos, 2)"
   ]
  },
  {
   "cell_type": "markdown",
   "metadata": {},
   "source": [
    "# Hashing Algorithms"
   ]
  },
  {
   "cell_type": "markdown",
   "metadata": {},
   "source": [
    "## Closed Address Hashing"
   ]
  },
  {
   "attachments": {
    "image.png": {
     "image/png": "[encoded data removed]"
    }
   },
   "cell_type": "markdown",
   "metadata": {},
   "source": [
    "![image.png | width = 100](attachment:image.png)"
   ]
  },
  {
   "cell_type": "code",
   "execution_count": 11,
   "metadata": {},
   "outputs": [],
   "source": [
    "# arr2 = [1, 1, 2, 3, 8, 9, 10, 11, 14, 15, 15, 15, 18]\n",
    "\n",
    "def hash_function(key, slot_num):\n",
    "    return key % slot_num\n",
    "\n",
    "def closed_address_hashing(arr):\n",
    "    hash_table = []\n",
    "    slot_num = 3\n",
    "    \n",
    "    for i in range(slot_num):\n",
    "        hash_table.append([])\n",
    "    \n",
    "    for key in arr:\n",
    "        slot = hash_function(key, slot_num)\n",
    "        hash_table[slot].append(key)\n",
    "    \n",
    "    return hash_table"
   ]
  },
  {
   "cell_type": "code",
   "execution_count": 12,
   "metadata": {},
   "outputs": [
    {
     "data": {
      "text/plain": [
       "[[3, 9, 15, 15, 15, 18], [1, 1, 10], [2, 8, 11, 14]]"
      ]
     },
     "execution_count": 12,
     "metadata": {},
     "output_type": "execute_result"
    }
   ],
   "source": [
    "closed_address_hashing(arr2)"
   ]
  },
  {
   "cell_type": "markdown",
   "metadata": {},
   "source": [
    "## Open Address Hashing (Linear Probing)"
   ]
  },
  {
   "cell_type": "code",
   "execution_count": 13,
   "metadata": {},
   "outputs": [],
   "source": [
    "# arr2 = [1, 1, 2, 3, 8, 9, 10, 11, 14, 15, 15, 15, 18]\n",
    "\n",
    "slot_num = 20\n",
    "\n",
    "def hash_function(key):\n",
    "    return key % slot_num\n",
    "\n",
    "def lp_rehash(slot):\n",
    "    return (slot + 1) % slot_num\n",
    "\n",
    "def linear_probing(arr):\n",
    "    hash_table = []\n",
    "    \n",
    "    for i in range(slot_num):\n",
    "        hash_table.append(None)\n",
    "    \n",
    "    for key in arr:\n",
    "        slot = hash_function(key)\n",
    "        hashed = False\n",
    "        \n",
    "        while not hashed:\n",
    "            if hash_table[slot]:\n",
    "                slot = lp_rehash(slot)\n",
    "            else:\n",
    "                hash_table[slot] = key\n",
    "                hashed = True\n",
    "    \n",
    "    return hash_table"
   ]
  },
  {
   "cell_type": "code",
   "execution_count": 14,
   "metadata": {},
   "outputs": [
    {
     "name": "stdout",
     "output_type": "stream",
     "text": [
      "[None, 1, 1, 2, 3, None, None, None, 8, 9, 10, 11, None, None, 14, 15, 15, 15, 18, None]\n"
     ]
    }
   ],
   "source": [
    "print(linear_probing(arr2))"
   ]
  },
  {
   "cell_type": "markdown",
   "metadata": {},
   "source": [
    "## Open Address Hashing (Double Hashing)"
   ]
  },
  {
   "cell_type": "code",
   "execution_count": 15,
   "metadata": {},
   "outputs": [],
   "source": [
    "arr2 = [1, 1, 2, 3, 8, 9, 10, 11, 14, 15, 15, 15, 18]\n",
    "\n",
    "slot_num = 20\n",
    "\n",
    "def hash_function(key):\n",
    "    return key % slot_num\n",
    "\n",
    "def hash_function_2(key):\n",
    "    return key % 7 + 1\n",
    "\n",
    "def double_hashing(arr):\n",
    "    hash_table = []\n",
    "    \n",
    "    for i in range(slot_num):\n",
    "        hash_table.append(None)\n",
    "    \n",
    "    for key in arr:\n",
    "        slot = hash_function(key)\n",
    "        hashed = False\n",
    "        multiplier = 1\n",
    "        \n",
    "        while not hashed:\n",
    "            if hash_table[slot]:\n",
    "                res = hash_function_2(key)\n",
    "                slot = (slot + multiplier*res) % slot_num\n",
    "                multiplier += 1\n",
    "            else:\n",
    "                hash_table[slot] = key\n",
    "                hashed = True\n",
    "        \n",
    "        slot = hash_function(key)\n",
    "        hash_table[slot] = key\n",
    "    \n",
    "    return hash_table"
   ]
  },
  {
   "cell_type": "code",
   "execution_count": 16,
   "metadata": {},
   "outputs": [
    {
     "name": "stdout",
     "output_type": "stream",
     "text": [
      "[None, 1, 2, 3, None, 15, None, 3, 8, 9, 10, 11, None, None, 14, 15, None, 15, 18, None]\n"
     ]
    }
   ],
   "source": [
    "print(double_hashing(arr2))"
   ]
  },
  {
   "cell_type": "markdown",
   "metadata": {},
   "source": [
    "# Sorting Algorithms"
   ]
  },
  {
   "cell_type": "markdown",
   "metadata": {},
   "source": [
    "## Insertion Sort\n",
    "\n",
    "Repeatedly pick an element X to insert into a sorted subarray on the left side by comparing X with its left neighbor. If they are out of order, swap them. Else, insert X there."
   ]
  },
  {
   "cell_type": "markdown",
   "metadata": {},
   "source": [
    "### Time Complexity\n",
    "- Outer loop always has n-1 iterations\n",
    "- __Best case scenario__: Already sorted\n",
    "    - 1 key comparison per n-1 iterations\n",
    "    - n-1 = **O(n)**\n",
    "- __Worst case scenario__: Reversely sorted\n",
    "    - i key comparisons per i'th iteration for n-1 iterations\n",
    "    - sum(1 to n-1) = n/2(n-1) = **O(n^2)**\n",
    "- __Average case__\n",
    "    - Average no. of comparisons in the inner loop for the i'th iteration = 1/i * sum(1 to i) = (i+1)/2\n",
    "    - Average no. of comparisons for n-1 iterations = sum(1 to n-1 for (i+1)/2) = (n-1)(n+2)/4 = **O(n^2)**\n",
    "    \n",
    "### Strengths\n",
    "- Almost sorted list\n",
    "- To verify if list is sorted\n",
    "\n",
    "### Weaknesses\n",
    "- When element inserted, it may not be in its final position\n",
    "- If each slot contains a lot of data, movement is expensive"
   ]
  },
  {
   "cell_type": "code",
   "execution_count": 17,
   "metadata": {},
   "outputs": [
    {
     "name": "stdout",
     "output_type": "stream",
     "text": [
      "[1, 1, 2, 2, 2, 3, 3, 5, 5, 7, 9, 10, 99]\n"
     ]
    }
   ],
   "source": [
    "arr1 = [2, 5, 1, 2, 7, 2, 3, 9, 10, 99, 1, 3, 5]\n",
    "\n",
    "def insertion_sort(arr):\n",
    "    # Look at all the elements in the array\n",
    "    for i in range(1, len(arr)):\n",
    "        # Find the correct place to insert the item (check from the back)\n",
    "        for j in range(i, 0, -1):\n",
    "            if arr[j] < arr[j-1]:\n",
    "                arr[j], arr[j-1] = arr[j-1], arr[j]\n",
    "            else:\n",
    "                break\n",
    "#         print(arr)\n",
    "    return arr\n",
    "                \n",
    "print(insertion_sort(arr1))"
   ]
  },
  {
   "cell_type": "markdown",
   "metadata": {},
   "source": [
    "## Merge Sort"
   ]
  },
  {
   "cell_type": "code",
   "execution_count": 18,
   "metadata": {},
   "outputs": [
    {
     "name": "stdout",
     "output_type": "stream",
     "text": [
      "[1, 2, 3, 4, 4, 5]\n"
     ]
    }
   ],
   "source": [
    "def merge_sort(arr, n, m):\n",
    "    if m > n:\n",
    "        mid = (n + m) // 2\n",
    "        merge_sort(arr, n, mid)\n",
    "        merge_sort(arr, mid+1, m)\n",
    "        merge(arr, n, m)\n",
    "\n",
    "def merge(arr, n, m):\n",
    "    if m <= n:\n",
    "        return\n",
    "    \n",
    "    mid = (n + m) // 2\n",
    "    a = n\n",
    "    b = mid + 1\n",
    "    \n",
    "    # While neither the right nor left arrays have finished iterating\n",
    "    while a <= mid and b <= m:\n",
    "        # Left > Right\n",
    "        if arr[a] > arr[b]:\n",
    "            temp = arr[b]\n",
    "            b += 1 # Increase the right subarray's pointer\n",
    "            # Shift the left array up\n",
    "            mid += 1\n",
    "            for i in range(mid, a, -1):\n",
    "                arr[i] = arr[i-1]\n",
    "            arr[a] = temp\n",
    "            a += 1\n",
    "                \n",
    "        # Left < Right\n",
    "        # The element is already where it is supposed to be\n",
    "        elif arr[a] < arr[b]:\n",
    "            a += 1\n",
    "            \n",
    "        # Left == Right\n",
    "        else:\n",
    "            temp = arr[b]\n",
    "            b += 1\n",
    "            a += 1\n",
    "            mid += 1\n",
    "            for i in range(mid, a, -1):\n",
    "                arr[i] = arr[i-1]\n",
    "            arr[a] = temp\n",
    "            a += 1\n",
    "            \n",
    "arr1 = [2, 4, 5, 1, 3, 4]\n",
    "merge_sort(arr1, 0, len(arr1)-1)\n",
    "print(arr1)"
   ]
  },
  {
   "cell_type": "markdown",
   "metadata": {},
   "source": [
    "## Quick Sort"
   ]
  },
  {
   "cell_type": "code",
   "execution_count": 19,
   "metadata": {
    "scrolled": false
   },
   "outputs": [
    {
     "name": "stdout",
     "output_type": "stream",
     "text": [
      "Pivot: 10 at position 8\n",
      "[-2, 12, 4, 1, 5, 2, 4, 9, 10, 2, 99, 4, 5, 3, 1, 0, -1]\n",
      "Pivot: 9 at position 6\n",
      "[-1, 4, 1, 5, 2, 4, 9, -2, 2, 4, 5, 3, 1, 0, 10, 12, 99]\n",
      "Pivot: -1 at position 6\n",
      "[0, 4, 1, 5, 2, 4, -1, -2, 2, 4, 5, 3, 1, 9, 10, 12, 99]\n",
      "Pivot: 4 at position 7\n",
      "[-2, -1, 1, 5, 2, 4, 0, 4, 2, 4, 5, 3, 1, 9, 10, 12, 99]\n",
      "Pivot: 0 at position 4\n",
      "[-2, -1, 1, 2, 0, 1, 2, 3, 4, 4, 5, 4, 5, 9, 10, 12, 99]\n",
      "Pivot: 1 at position 5\n",
      "[-2, -1, 0, 2, 1, 1, 2, 3, 4, 4, 5, 4, 5, 9, 10, 12, 99]\n",
      "Pivot: 2 at position 5\n",
      "[-2, -1, 0, 1, 1, 2, 2, 3, 4, 4, 5, 4, 5, 9, 10, 12, 99]\n",
      "Pivot: 2 at position 6\n",
      "[-2, -1, 0, 1, 1, 2, 2, 3, 4, 4, 5, 4, 5, 9, 10, 12, 99]\n",
      "Pivot: 5 at position 10\n",
      "[-2, -1, 0, 1, 1, 2, 2, 3, 4, 4, 5, 4, 5, 9, 10, 12, 99]\n",
      "Pivot: 4 at position 9\n",
      "[-2, -1, 0, 1, 1, 2, 2, 3, 4, 4, 4, 5, 5, 9, 10, 12, 99]\n",
      "Pivot: 12 at position 15\n",
      "[-2, -1, 0, 1, 1, 2, 2, 3, 4, 4, 4, 5, 5, 9, 10, 12, 99]\n"
     ]
    }
   ],
   "source": [
    "# def quick_sort(min_pos, max_pos):\n",
    "#     if min_pos < max_pos:\n",
    "#         pivot_pos = partition(min_pos, max_pos)\n",
    "#         quick_sort(min_pos, pivot_pos - 1)\n",
    "#         quick_sort(pivot_pos + 1, max_pos)\n",
    "\n",
    "def quick_sort(arr, min_pos, max_pos):\n",
    "    if min_pos < max_pos:\n",
    "        pivot_pos = partition(arr, min_pos, max_pos)\n",
    "        quick_sort(arr, min_pos, pivot_pos - 1)\n",
    "        quick_sort(arr, pivot_pos + 1, max_pos)\n",
    "\n",
    "def partition(arr, min_pos, max_pos):\n",
    "    \n",
    "    # Take the middle element as the pivot\n",
    "    mid_pos = (min_pos+max_pos)//2\n",
    "    pivot_val = arr[mid_pos]\n",
    "    print(\"Pivot: \" + str(pivot_val) + \" at position \" + str(mid_pos))\n",
    "    print(arr)\n",
    "    \n",
    "    # Swap the pivot to become the first element\n",
    "    arr[min_pos], arr[mid_pos] = arr[mid_pos], arr[min_pos]\n",
    "    \n",
    "    # Case 1: The chosen pivot is the smallest value -> Yes, pivot_pos should be 0\n",
    "    pivot_pos = min_pos\n",
    "    \n",
    "    # Compare the pivot value with the rest of the elements (at position min_pos+1 and above)\n",
    "    for i in range(min_pos + 1, max_pos + 1):\n",
    "        \n",
    "        # Found an element smaller than the pivot value\n",
    "        if arr[i] < pivot_val:\n",
    "            pivot_pos += 1\n",
    "            # We are moving all the small elements to the left partition (while not touching the pivot value)\n",
    "            # While determining where the pivot element should be at the end.\n",
    "            arr[pivot_pos], arr[i] = arr[i], arr[pivot_pos]\n",
    "            \n",
    "    # Put the pivot back\n",
    "    arr[min_pos], arr[pivot_pos] = arr[pivot_pos], arr[min_pos]\n",
    "    return pivot_pos\n",
    "    \n",
    "arr = [-2, 12, 4, 1, 5, 2, 4, 9, 10, 2, 99, 4, 5, 3, 1, 0, -1]\n",
    "quick_sort(arr, 0, len(arr)-1)"
   ]
  },
  {
   "cell_type": "markdown",
   "metadata": {},
   "source": [
    "## Heap Sort"
   ]
  },
  {
   "cell_type": "markdown",
   "metadata": {},
   "source": [
    "THIS TOOK SO LONG HELP.\n",
    "\n",
    "Basically, to construct the max heap, you have to heapify it. This means using post-order traversal to 'fix' all the subheaps (in the order of left -> right -> root). For construction, you pass in the ROOT of the subheap into fix_heap. \n",
    "\n",
    "What's fix_heap? For each fix_heap call, you let the element (the root, in this case) 'sink' as much as the max heap allows, then letting it settle there. You do that for every subheap, including the very top one. I personally think it's super funny that you do post-order traversal in heapify but end up looking down the entire damn tree anyway... but it makes sense... rip"
   ]
  },
  {
   "cell_type": "markdown",
   "metadata": {},
   "source": [
    "### Helper Functions"
   ]
  },
  {
   "cell_type": "code",
   "execution_count": 20,
   "metadata": {},
   "outputs": [],
   "source": [
    "# =============================================================================================\n",
    "# Heap Construction\n",
    "# I consider the first node to be indexed to 1, thus all the minus 1's while actually indexing\n",
    "# =============================================================================================\n",
    "\n",
    "def construct_heap(arr):\n",
    "    heapify(arr, len(arr), 1)\n",
    "    \n",
    "def heapify(heap, heap_size, root):\n",
    "    left = root*2\n",
    "    right = root*2 + 1\n",
    "    \n",
    "    # The root node we are inspecting has at least 1 child\n",
    "    # Fix the heap using post-order tree traversal\n",
    "    if left <= heap_size:\n",
    "        heapify(heap, heap_size, left)\n",
    "        heapify(heap, heap_size, right)\n",
    "        fix_heap(heap, heap_size, root, heap[root-1])\n",
    "\n",
    "def fix_heap(heap, heap_size, root, k):\n",
    "    global key_comps\n",
    "    \n",
    "    larger_child = root*2\n",
    "    \n",
    "    while larger_child <= heap_size:\n",
    "        # If the root node has a right child and it is larger than the left child\n",
    "        # Set larger_child to the right child\n",
    "        if larger_child < heap_size and heap[larger_child-1] < heap[larger_child+1-1]:\n",
    "            larger_child += 1\n",
    "            \n",
    "        # If the value is larger than the child, everything below is already in the correct position, do nothing\n",
    "        key_comps += 1\n",
    "        if k >= heap[larger_child-1]:\n",
    "            break\n",
    "        \n",
    "        # Else, let root be the larger child, fixing stuff on the way down\n",
    "        heap[root-1] = heap[larger_child-1]\n",
    "        \n",
    "        # Go further down the tree\n",
    "        root = larger_child\n",
    "        larger_child = root*2\n",
    "    heap[root-1] = k"
   ]
  },
  {
   "cell_type": "markdown",
   "metadata": {},
   "source": [
    "In the main driver method, heap_sort, I construct the heap first. Then, I call fix_heap, but this time, I let the LAST ELEMENT IN THE HEAP sink as much as I need to. As fix_heap happens, it also fixes the heap anytime it doesn't satisfy the max heap criteria. Also, to simulate the 'deletion' of the last element in the heap, I change heap_size.\n"
   ]
  },
  {
   "cell_type": "code",
   "execution_count": 21,
   "metadata": {},
   "outputs": [
    {
     "name": "stdout",
     "output_type": "stream",
     "text": [
      "Initially constructed heap: [100, 13, 34, 12, 12, 3, 2, 12, 11, 2]\n",
      "[34, 13, 3, 12, 12, 2, 2, 12, 11, 100]\n",
      "[13, 12, 3, 12, 12, 2, 2, 11, 34, 100]\n",
      "[12, 12, 3, 11, 12, 2, 2, 13, 34, 100]\n",
      "[12, 12, 3, 11, 2, 2, 12, 13, 34, 100]\n",
      "[12, 11, 3, 2, 2, 12, 12, 13, 34, 100]\n",
      "[11, 2, 3, 2, 12, 12, 12, 13, 34, 100]\n",
      "[3, 2, 2, 11, 12, 12, 12, 13, 34, 100]\n",
      "[2, 2, 3, 11, 12, 12, 12, 13, 34, 100]\n",
      "[2, 2, 3, 11, 12, 12, 12, 13, 34, 100]\n",
      "Final sorted array: [2, 2, 3, 11, 12, 12, 12, 13, 34, 100]\n",
      "Number of comparisons: 23\n"
     ]
    }
   ],
   "source": [
    "def heap_sort(arr):\n",
    "    n = len(arr)\n",
    "    \n",
    "    construct_heap(arr)\n",
    "    print(\"Initially constructed heap:\", arr)\n",
    "    \n",
    "    # Remember that at this point, arr is already a max heap\n",
    "    for i in range(n-1, 0, -1):\n",
    "        current_max = arr[0]\n",
    "        fix_heap(heap=arr, heap_size=i, root=1, k=arr[i]) # This is basically deleteMax\n",
    "        arr[i] = current_max\n",
    "        print(arr)\n",
    "\n",
    "arr = [12, 11, 3, 100, 2, 34, 2, 12, 13, 12]\n",
    "key_comps = 0\n",
    "heap_sort(arr)\n",
    "print(\"Final sorted array:\", arr)\n",
    "print(\"Number of comparisons:\", key_comps)"
   ]
  },
  {
   "cell_type": "markdown",
   "metadata": {},
   "source": [
    "Oh hey, notice how the bottom of the heap sorts itself as it goes on! It's like Insertion Sort but with a more efficient type of data structure. And unlike Insertion Sort, when elements are at the sorted portion (after each fix_heap call), it stays permanently there."
   ]
  },
  {
   "cell_type": "code",
   "execution_count": null,
   "metadata": {},
   "outputs": [],
   "source": []
  },
  {
   "cell_type": "code",
   "execution_count": null,
   "metadata": {},
   "outputs": [],
   "source": []
  },
  {
   "cell_type": "code",
   "execution_count": null,
   "metadata": {},
   "outputs": [],
   "source": []
  }
 ],
 "metadata": {
  "kernelspec": {
   "display_name": "Python 3",
   "language": "python",
   "name": "python3"
  },
  "language_info": {
   "codemirror_mode": {
    "name": "ipython",
    "version": 3
   },
   "file_extension": ".py",
   "mimetype": "text/x-python",
   "name": "python",
   "nbconvert_exporter": "python",
   "pygments_lexer": "ipython3",
   "version": "3.6.8"
  }
 },
 "nbformat": 4,
 "nbformat_minor": 2
}

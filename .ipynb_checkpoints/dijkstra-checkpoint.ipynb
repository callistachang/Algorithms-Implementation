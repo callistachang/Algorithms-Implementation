{
 "cells": [
  {
   "cell_type": "markdown",
   "metadata": {},
   "source": [
    "# Dijkstra's Algorithm"
   ]
  },
  {
   "cell_type": "markdown",
   "metadata": {},
   "source": [
    "1. Mark all nodes unvisited and store them.\n",
    "\n",
    "2. Set dist=0 for our initial node and dist=inf for other nodes\n",
    "\n",
    "3. Let currentnode=unvisited node with the smallest distance\n",
    "\n",
    "4. Find unvisited neighbors for the current node and calculate their distances THROUGH the current node. Compare the newly calculated distance to the assigned and save the smaller one.\n",
    "\n",
    "5. Mark the current node as visited, remove from current set.\n",
    "\n",
    "6. Stop when destination node has been visited or if the smallest distance among the unvisited nodes is infinity. If not, repeat steps 3-6."
   ]
  },
  {
   "cell_type": "code",
   "execution_count": 41,
   "metadata": {},
   "outputs": [],
   "source": [
    "inf = float('inf')\n",
    "\n",
    "matrix = [\n",
    "    [0, 4, 2, 6, 8],\n",
    "    [inf, 0, inf, 4, 3],\n",
    "    [inf, inf, 0, 1, inf],\n",
    "    [inf, 1, inf, 0, 3],\n",
    "    [inf, inf, inf, inf, 0]\n",
    "]"
   ]
  },
  {
   "cell_type": "code",
   "execution_count": 51,
   "metadata": {},
   "outputs": [
    {
     "name": "stdout",
     "output_type": "stream",
     "text": [
      "The shortest path to visit all vertices is:  [1 -> 3 -> 4 -> 2 -> 5]\n",
      "The costss to visit respective vertices are:  [0, 4, 2, 3, 6]\n"
     ]
    }
   ],
   "source": [
    "def dijkstra(mat, source_v):\n",
    "    nrow = len(mat[0])\n",
    "    ncol = len(mat)\n",
    "    source_v -= 1 # Adjust for array indexing\n",
    "    \n",
    "    # Initialize costs as costs between the source vertex and direct neighbors\n",
    "    costs = []\n",
    "    for i in range(nrow):\n",
    "        costs.append(mat[source_v][i])\n",
    "    \n",
    "    # Mark source vertex as visited\n",
    "    visited = []\n",
    "    visited.append(source_v)\n",
    "    \n",
    "    next_v = 0\n",
    "    \n",
    "    for _ in range(nrow-1):\n",
    "        min = float('inf')\n",
    "        \n",
    "        # Look through neighbors, choose the one with the lowest cost to visit\n",
    "        for v in range(nrow):\n",
    "            if costs[v] <= min and v not in visited:\n",
    "                min = costs[v]\n",
    "                next_v = v\n",
    "        visited.append(next_v) # Mark chosen neighbor as visited\n",
    "        \n",
    "        '''\n",
    "        E.g. After finding that 3 is the closest direct neighbor to 1,\n",
    "        1. Look through all the current costs to each vertex\n",
    "        2. If (current cost to vertex V) is LARGER than (current cost to vertex 3) + (cost of vertex 3 to V)\n",
    "            AKA The double path is a better route than the direct path\n",
    "        3. Update current costs.\n",
    "        \n",
    "        '''\n",
    "        for v in range(nrow):\n",
    "            if costs[v] > (costs[next_v] + mat[next_v][v]):\n",
    "                costs[v] = costs[next_v] + mat[next_v][v]\n",
    "                \n",
    "    visited = [v+1 for v in visited] # Adjust back for array indexing\n",
    "    print(\"The shortest path to visit all vertices is: \", str(visited).replace(\", \", \" -> \"))\n",
    "    print(\"The costss to visit respective vertices are: \", costs)\n",
    "        \n",
    "dijkstra(matrix, 1)\n",
    "    \n",
    "    "
   ]
  },
  {
   "cell_type": "code",
   "execution_count": 26,
   "metadata": {},
   "outputs": [
    {
     "name": "stdout",
     "output_type": "stream",
     "text": [
      "Enter the source vertex0\n",
      "The shortest path [1, 3, 4, 2, 5]\n",
      "The cost to various vertices in order [[0, 4, 2, 3, 6]]\n"
     ]
    }
   ],
   "source": [
    "#vertex should start with zero\n",
    "#if you are giving weight above 999 adjust min in program\n",
    "#result will be the shortest path and the distace to each vertex from source vertex in order\n",
    "def dijkstra(matrix,m,n):\n",
    "    k=int(input(\"Enter the source vertex\"))\n",
    "    cost=[[0 for x in range(m)] for x in range(1)]\n",
    "    offsets = []\n",
    "    offsets.append(k)\n",
    "    elepos=0\n",
    "    for j in range(m):\n",
    "        cost[0][j]=matrix[k][j]\n",
    "    mini=999\n",
    "    for x in range (m-1):\n",
    "        mini=999\n",
    "        for j in range (m):\n",
    "                if cost[0][j]<=mini and j not in offsets:\n",
    "                        mini=cost[0][j]\n",
    "                        elepos=j\n",
    "        offsets.append(elepos)\n",
    "        for j in range (m):\n",
    "            if cost[0][j] >cost[0][elepos]+matrix[elepos][j]:\n",
    "                cost[0][j]=cost[0][elepos]+matrix[elepos][j]\n",
    "    offsets = [x+1 for x in offsets]\n",
    "    print(\"The shortest path\",offsets)\n",
    "    print(\"The cost to various vertices in order\",cost)\n",
    "    \n",
    "def main():\n",
    "    matrix = [\n",
    "        [0, 4, 2, 6, 8],\n",
    "        [inf, 0, inf, 4, 8],\n",
    "        [inf, inf, 0, 1, inf],\n",
    "        [inf, 1, inf, 0, 3],\n",
    "        [inf, inf, inf, inf, 0]\n",
    "    ]\n",
    "#     print(\"Dijkstras algorithum graph using matrix representation \\n\")\n",
    "#     n=int(input(\"number of elements in row\"))\n",
    "#     m=int(input(\"number of elements in column\"))\n",
    "#     #print(\"enter the values of the matrix\")\n",
    "#     matrix=[[0 for x in range(m)] for x in range(n)]\n",
    "#     for i in range (n):\n",
    "#         for j in range (m):\n",
    "#             matrix[i][j]=int(input(\"enter the values of the matrix\"))\n",
    "#     print(matrix)\n",
    "    dijkstra(matrix,5,5)\n",
    "main()"
   ]
  }
 ],
 "metadata": {
  "kernelspec": {
   "display_name": "Python 3",
   "language": "python",
   "name": "python3"
  },
  "language_info": {
   "codemirror_mode": {
    "name": "ipython",
    "version": 3
   },
   "file_extension": ".py",
   "mimetype": "text/x-python",
   "name": "python",
   "nbconvert_exporter": "python",
   "pygments_lexer": "ipython3",
   "version": "3.6.8"
  }
 },
 "nbformat": 4,
 "nbformat_minor": 2
}

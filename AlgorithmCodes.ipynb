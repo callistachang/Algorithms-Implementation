{
 "cells": [
  {
   "cell_type": "markdown",
   "metadata": {},
   "source": [
    "# Searching Algorithms"
   ]
  },
  {
   "cell_type": "code",
   "execution_count": 1,
   "metadata": {},
   "outputs": [],
   "source": [
    "arr = [1, 4, 8, 2, 3, 5, 10, 6, 7, 9, 10]"
   ]
  },
  {
   "attachments": {},
   "cell_type": "markdown",
   "metadata": {},
   "source": [
    "## Sequential Search\n",
    "\n",
    "Omega(1) | Theta(n) | O(n)"
   ]
  },
  {
   "cell_type": "code",
   "execution_count": 2,
   "metadata": {},
   "outputs": [
    {
     "data": {
      "text/plain": [
       "True"
      ]
     },
     "execution_count": 2,
     "metadata": {},
     "output_type": "execute_result"
    }
   ],
   "source": [
    "def sequential_search(arr, key):\n",
    "    \"\"\"Checks all the elements in the array linearly for the key.\"\"\"\n",
    "    \n",
    "    for i in range(len(arr)):\n",
    "        if arr[i] == key:\n",
    "            return True\n",
    "    return False\n",
    "\n",
    "sequential_search(arr, 3)"
   ]
  },
  {
   "cell_type": "markdown",
   "metadata": {},
   "source": [
    "## Binary Search\n",
    "\n",
    "Omega(1) | Theta(lg(n)) | O(lg(n))\n",
    "\n",
    "Look at the middle element. If it is the key, yay - stop the process! If key < middle element, consider the left partition. If key > middle element, consider the right partition."
   ]
  },
  {
   "cell_type": "code",
   "execution_count": 3,
   "metadata": {},
   "outputs": [
    {
     "data": {
      "text/plain": [
       "True"
      ]
     },
     "execution_count": 3,
     "metadata": {},
     "output_type": "execute_result"
    }
   ],
   "source": [
    "def iterative_binary_search(arr, key):\n",
    "    \"\"\"Iterative implementation of binary search.\n",
    "    \n",
    "    Compares the key to the middle element in the array, effectively\n",
    "    cutting the breadth of search in every loop.\n",
    "    \n",
    "    Assumes that the array is already sorted.\n",
    "    \"\"\"\n",
    "    \n",
    "    first_pos = 0\n",
    "    last_pos = len(arr) - 1\n",
    "    found = False\n",
    "    \n",
    "    while first_pos <= last_pos and not found:\n",
    "        mid_pos = (first_pos + last_pos) // 2\n",
    "        if arr[mid_pos] == key:\n",
    "            found = True\n",
    "        elif key < arr[mid_pos]:\n",
    "            last_pos = mid_pos - 1\n",
    "        elif key > arr[mid_pos]:\n",
    "            first_pos = mid_pos + 1\n",
    "        \n",
    "    return found\n",
    "\n",
    "iterative_binary_search(sorted(arr), 3)"
   ]
  },
  {
   "cell_type": "code",
   "execution_count": 4,
   "metadata": {},
   "outputs": [
    {
     "data": {
      "text/plain": [
       "True"
      ]
     },
     "execution_count": 4,
     "metadata": {},
     "output_type": "execute_result"
    }
   ],
   "source": [
    "def recursive_binary_search(arr, first_pos, last_pos, key):\n",
    "    \"\"\"Recursive implementation of binary search.\n",
    "    \n",
    "    Compares the key to the middle element in the array, effectively\n",
    "    cutting the breadth of search in every recursive call.\n",
    "    \n",
    "    Assumes that the array is already sorted.\n",
    "    \"\"\"\n",
    "\n",
    "    if last_pos < first_pos:  # Base case\n",
    "        return False\n",
    "    else:\n",
    "        mid_pos = (first_pos + last_pos) // 2\n",
    "        if key == arr[mid_pos]:\n",
    "            return True\n",
    "        elif key < arr[mid_pos]:\n",
    "            return recursive_binary_search(arr, first_pos, mid_pos-1, key)\n",
    "        elif key > arr[mid_pos]:\n",
    "            return recursive_binary_search(arr, mid_pos+1, last_pos, key)\n",
    "        \n",
    "first_pos = 0\n",
    "last_pos = len(arr) - 1\n",
    "\n",
    "recursive_binary_search(sorted(arr), first_pos, last_pos, 3)"
   ]
  },
  {
   "cell_type": "markdown",
   "metadata": {},
   "source": [
    "# Hashing Algorithms"
   ]
  },
  {
   "cell_type": "markdown",
   "metadata": {},
   "source": [
    "## Closed Address Hashing"
   ]
  },
  {
   "cell_type": "code",
   "execution_count": 5,
   "metadata": {},
   "outputs": [
    {
     "data": {
      "text/plain": [
       "[[3, 6, 9], [1, 4, 10, 7, 10], [8, 2, 5]]"
      ]
     },
     "execution_count": 5,
     "metadata": {},
     "output_type": "execute_result"
    }
   ],
   "source": [
    "def hash_function(key, slot_num):\n",
    "    return key % slot_num\n",
    "\n",
    "def closed_address_hashing(arr, slot_num):\n",
    "    hash_table = []\n",
    "    \n",
    "    for i in range(slot_num):\n",
    "        hash_table.append([])\n",
    "    \n",
    "    for key in arr:\n",
    "        slot = hash_function(key, slot_num)\n",
    "        hash_table[slot].append(key)\n",
    "    \n",
    "    return hash_table\n",
    "\n",
    "closed_address_hashing(arr, slot_num=3)"
   ]
  },
  {
   "cell_type": "markdown",
   "metadata": {},
   "source": [
    "## Open Address Hashing (Linear Probing)"
   ]
  },
  {
   "cell_type": "code",
   "execution_count": 6,
   "metadata": {},
   "outputs": [
    {
     "data": {
      "text/plain": [
       "[None,\n",
       " 1,\n",
       " 2,\n",
       " 3,\n",
       " 4,\n",
       " 5,\n",
       " 6,\n",
       " 7,\n",
       " 8,\n",
       " 9,\n",
       " 10,\n",
       " 10,\n",
       " None,\n",
       " None,\n",
       " None,\n",
       " None,\n",
       " None,\n",
       " None,\n",
       " None,\n",
       " None]"
      ]
     },
     "execution_count": 6,
     "metadata": {},
     "output_type": "execute_result"
    }
   ],
   "source": [
    "def hash_function(key, slot_num):\n",
    "    return key % slot_num\n",
    "\n",
    "def lp_rehash(slot, slot_num):\n",
    "    return (slot + 1) % slot_num\n",
    "\n",
    "def linear_probing(arr, slot_num):\n",
    "    hash_table = []\n",
    "    \n",
    "    # Building the hash table\n",
    "    for i in range(slot_num):\n",
    "        hash_table.append(None)\n",
    "    \n",
    "    for key in arr:\n",
    "        slot = hash_function(key, slot_num)\n",
    "        hashed = False\n",
    "        \n",
    "        while not hashed:\n",
    "            if hash_table[slot]:\n",
    "                slot = lp_rehash(slot, slot_num)\n",
    "            else:\n",
    "                hash_table[slot] = key\n",
    "                hashed = True\n",
    "    \n",
    "    return hash_table\n",
    "\n",
    "linear_probing(arr, slot_num=20)  # slot_num should be at least the number of elements in the array"
   ]
  },
  {
   "cell_type": "markdown",
   "metadata": {},
   "source": [
    "## Open Address Hashing (Double Hashing)"
   ]
  },
  {
   "cell_type": "code",
   "execution_count": 7,
   "metadata": {},
   "outputs": [
    {
     "data": {
      "text/plain": [
       "[None,\n",
       " 1,\n",
       " 2,\n",
       " 3,\n",
       " 4,\n",
       " 5,\n",
       " 6,\n",
       " 7,\n",
       " 8,\n",
       " 9,\n",
       " 10,\n",
       " None,\n",
       " None,\n",
       " None,\n",
       " 10,\n",
       " None,\n",
       " None,\n",
       " None,\n",
       " None,\n",
       " None]"
      ]
     },
     "execution_count": 7,
     "metadata": {},
     "output_type": "execute_result"
    }
   ],
   "source": [
    "def hash_function(key, slot_num):\n",
    "    return key % slot_num\n",
    "\n",
    "def hash_function_2(key, slot_num):\n",
    "    return key % 7 + 1\n",
    "\n",
    "def double_hashing(arr, slot_num):\n",
    "    hash_table = []\n",
    "    \n",
    "    for i in range(slot_num):\n",
    "        hash_table.append(None)\n",
    "    \n",
    "    for key in arr:\n",
    "        slot = hash_function(key, slot_num)\n",
    "        hashed = False\n",
    "        multiplier = 1\n",
    "        \n",
    "        while not hashed:\n",
    "            if hash_table[slot]:\n",
    "                res = hash_function_2(key, slot_num)\n",
    "                slot = (slot + multiplier*res) % slot_num\n",
    "                multiplier += 1\n",
    "            else:\n",
    "                hash_table[slot] = key\n",
    "                hashed = True\n",
    "        \n",
    "        slot = hash_function(key, slot_num)\n",
    "        hash_table[slot] = key\n",
    "    \n",
    "    return hash_table\n",
    "\n",
    "double_hashing(arr, 20)"
   ]
  },
  {
   "cell_type": "markdown",
   "metadata": {},
   "source": [
    "# Sorting Algorithms"
   ]
  },
  {
   "cell_type": "markdown",
   "metadata": {},
   "source": [
    "## Insertion Sort\n",
    "\n",
    "Omega(n) | Theta(n^2) | O(n^2)\n",
    "\n",
    "- Best case scenario: Already sorted\n",
    "- Worst case scenario: Reversely sorted\n",
    "\n",
    "### Strengths\n",
    "- List is already almost sorted\n",
    "- To verify if the list is sorted\n",
    "\n",
    "### Weaknesses\n",
    "- When an element is inserted, it may not be in its final position\n",
    "- If each slot contains a lot of data, movement is expensive"
   ]
  },
  {
   "cell_type": "code",
   "execution_count": 8,
   "metadata": {},
   "outputs": [
    {
     "name": "stdout",
     "output_type": "stream",
     "text": [
      "Number of swaps: 23\n",
      "Number of key comparisons: 35\n"
     ]
    },
    {
     "data": {
      "text/plain": [
       "['E', 'I', 'I', 'N', 'N', 'O', 'O', 'R', 'R', 'S', 'S', 'T', 'T']"
      ]
     },
     "execution_count": 8,
     "metadata": {},
     "output_type": "execute_result"
    }
   ],
   "source": [
    "arr = [c for c in 'INSERTIONSORT']\n",
    "\n",
    "def insertion_sort(arr):\n",
    "    swaps = 0\n",
    "    key_comps = 1\n",
    "    \n",
    "    # Look through the elements in the array from left to right, starting from the second element\n",
    "    for i in range(1, len(arr)):\n",
    "        \n",
    "        # Looking through the elements in the array from right to left, starting from position i\n",
    "        # Finding the correct place to insert the item\n",
    "        for j in range(i, 0, -1):\n",
    "            key_comps += 1\n",
    "            if arr[j] < arr[j-1]:\n",
    "                arr[j], arr[j-1] = arr[j-1], arr[j]\n",
    "                swaps += 1\n",
    "            else:\n",
    "                break\n",
    "                \n",
    "    print(\"Number of swaps:\", swaps)\n",
    "    print(\"Number of key comparisons:\", key_comps)\n",
    "    return arr\n",
    "\n",
    "insertion_sort(arr)"
   ]
  },
  {
   "cell_type": "markdown",
   "metadata": {},
   "source": [
    "## Merge Sort"
   ]
  },
  {
   "cell_type": "code",
   "execution_count": 9,
   "metadata": {},
   "outputs": [
    {
     "name": "stdout",
     "output_type": "stream",
     "text": [
      "['E', 'M', 'R', 'G', 'E', 'S', 'O', 'R', 'T']\n",
      "End of merge() call\n",
      "['E', 'M', 'R', 'G', 'E', 'S', 'O', 'R', 'T']\n",
      "['E', 'M', 'R', 'G', 'E', 'S', 'O', 'R', 'T']\n",
      "End of merge() call\n",
      "['E', 'M', 'R', 'E', 'G', 'S', 'O', 'R', 'T']\n",
      "End of merge() call\n",
      "['E', 'E', 'M', 'R', 'G', 'S', 'O', 'R', 'T']\n",
      "['E', 'E', 'G', 'M', 'R', 'S', 'O', 'R', 'T']\n",
      "End of merge() call\n",
      "['E', 'E', 'G', 'M', 'R', 'O', 'S', 'R', 'T']\n",
      "End of merge() call\n",
      "['E', 'E', 'G', 'M', 'R', 'O', 'S', 'R', 'T']\n",
      "End of merge() call\n",
      "['E', 'E', 'G', 'M', 'R', 'O', 'S', 'R', 'T']\n",
      "['E', 'E', 'G', 'M', 'R', 'O', 'R', 'S', 'T']\n",
      "['E', 'E', 'G', 'M', 'R', 'O', 'R', 'S', 'T']\n",
      "End of merge() call\n",
      "['E', 'E', 'G', 'M', 'R', 'O', 'R', 'S', 'T']\n",
      "['E', 'E', 'G', 'M', 'R', 'O', 'R', 'S', 'T']\n",
      "['E', 'E', 'G', 'M', 'R', 'O', 'R', 'S', 'T']\n",
      "['E', 'E', 'G', 'M', 'R', 'O', 'R', 'S', 'T']\n",
      "['E', 'E', 'G', 'M', 'O', 'R', 'R', 'S', 'T']\n",
      "['E', 'E', 'G', 'M', 'O', 'R', 'R', 'S', 'T']\n",
      "End of merge() call\n",
      "Total number of key comparisons: 17\n"
     ]
    }
   ],
   "source": [
    "arr = [c for c in 'MERGESORT']\n",
    "key_comps = 0\n",
    "\n",
    "def merge_sort(arr, n, m):\n",
    "    if m > n:\n",
    "        mid = (n + m) // 2\n",
    "        merge_sort(arr, n, mid)\n",
    "        merge_sort(arr, mid+1, m)\n",
    "        merge(arr, n, m)\n",
    "\n",
    "def merge(arr, n, m):\n",
    "    global key_comps\n",
    "    \n",
    "    # Pointer at middle.\n",
    "    mid = (n + m) // 2\n",
    "    # Pointer at beginning of first half.\n",
    "    a = n\n",
    "    # Pointer at beginning of second half.\n",
    "    b = mid + 1\n",
    "    \n",
    "    # While neither the right nor left arrays have finished iterating\n",
    "    while a <= mid and b <= m:\n",
    "        # Left > Right\n",
    "        # b pointer moves up.\n",
    "        if arr[a] > arr[b]:\n",
    "            temp = arr[b]\n",
    "            b += 1 # Increase the right subarray's pointer\n",
    "            # Shift the left array up\n",
    "            mid += 1\n",
    "            for i in range(mid, a, -1):\n",
    "                arr[i] = arr[i-1]\n",
    "            arr[a] = temp\n",
    "            a += 1\n",
    "                \n",
    "        # Left < Right\n",
    "        # The element is already where it is supposed to be\n",
    "        # a pointer moves up.\n",
    "        elif arr[a] < arr[b]:\n",
    "            a += 1\n",
    "            \n",
    "        # Left == Right\n",
    "        # Both a and b pointers move up.\n",
    "        else:\n",
    "            temp = arr[b]\n",
    "            b += 1\n",
    "            a += 1\n",
    "            mid += 1\n",
    "            for i in range(mid, a, -1):\n",
    "                arr[i] = arr[i-1]\n",
    "            arr[a] = temp\n",
    "            a += 1\n",
    "            \n",
    "        key_comps += 1\n",
    "        print(arr)\n",
    "        \n",
    "    print(\"End of merge() call\")\n",
    "\n",
    "merge_sort(arr, 0, len(arr)-1)\n",
    "print(\"Total number of key comparisons:\", key_comps)"
   ]
  },
  {
   "cell_type": "markdown",
   "metadata": {},
   "source": [
    "## Quick Sort"
   ]
  },
  {
   "cell_type": "code",
   "execution_count": 10,
   "metadata": {
    "scrolled": false
   },
   "outputs": [
    {
     "name": "stdout",
     "output_type": "stream",
     "text": [
      "Pivot: K at position 4\n",
      "['Q', 'U', 'I', 'C', 'K', 'S', 'O', 'R', 'T']\n",
      "Pivot: C at position 0\n",
      "['C', 'I', 'K', 'U', 'Q', 'S', 'O', 'R', 'T']\n",
      "Pivot: S at position 5\n",
      "['C', 'I', 'K', 'U', 'Q', 'S', 'O', 'R', 'T']\n",
      "Pivot: Q at position 4\n",
      "['C', 'I', 'K', 'R', 'Q', 'O', 'S', 'U', 'T']\n",
      "Pivot: U at position 7\n",
      "['C', 'I', 'K', 'O', 'Q', 'R', 'S', 'U', 'T']\n",
      "Number of swaps: 7\n"
     ]
    }
   ],
   "source": [
    "swaps = 0\n",
    "\n",
    "def quick_sort(arr, min_pos, max_pos):\n",
    "    if min_pos < max_pos:\n",
    "        pivot_pos = partition(arr, min_pos, max_pos)\n",
    "        quick_sort(arr, min_pos, pivot_pos - 1)\n",
    "        quick_sort(arr, pivot_pos + 1, max_pos)\n",
    "\n",
    "def partition(arr, min_pos, max_pos):\n",
    "    global swaps\n",
    "    \n",
    "    # Take the middle element as the pivot\n",
    "    mid_pos = (min_pos+max_pos)//2\n",
    "    pivot_val = arr[mid_pos]\n",
    "    print(\"Pivot: \" + str(pivot_val) + \" at position \" + str(mid_pos))\n",
    "    print(arr)\n",
    "    \n",
    "    # Swap the pivot to become the first element\n",
    "    arr[min_pos], arr[mid_pos] = arr[mid_pos], arr[min_pos]\n",
    "    \n",
    "    # Case 1: The chosen pivot is the smallest value -> Yes, pivot_pos should be 0\n",
    "    pivot_pos = min_pos\n",
    "    \n",
    "    # Compare the pivot value with the rest of the elements (at position min_pos+1 and above)\n",
    "    for i in range(min_pos + 1, max_pos + 1):\n",
    "        \n",
    "        # If element is bigger, do nothing.\n",
    "        \n",
    "        # Found an element smaller than the pivot value\n",
    "        if arr[i] < pivot_val:\n",
    "            pivot_pos += 1\n",
    "            swaps += 1\n",
    "            # Swap it with the position at last small.\n",
    "            # Last small is the position the pivot should be in the end.\n",
    "            \n",
    "            # We are moving all the small elements to the left partition (while not touching the pivot value)\n",
    "            # While determining where the pivot element should be at the end.\n",
    "            arr[pivot_pos], arr[i] = arr[i], arr[pivot_pos]\n",
    "            \n",
    "    # Put the pivot back\n",
    "    arr[min_pos], arr[pivot_pos] = arr[pivot_pos], arr[min_pos]\n",
    "    return pivot_pos\n",
    "    \n",
    "arr = [c for c in 'QUICKSORT']\n",
    "quick_sort(arr, 0, len(arr)-1)\n",
    "print(\"Number of swaps:\", swaps)"
   ]
  },
  {
   "cell_type": "markdown",
   "metadata": {},
   "source": [
    "## Heap Sort"
   ]
  },
  {
   "cell_type": "markdown",
   "metadata": {},
   "source": [
    "### Heap Construction"
   ]
  },
  {
   "cell_type": "code",
   "execution_count": 11,
   "metadata": {},
   "outputs": [
    {
     "name": "stdout",
     "output_type": "stream",
     "text": [
      "Swaps: 5\n",
      "Key comps: 14\n"
     ]
    }
   ],
   "source": [
    "# =============================================================================================\n",
    "# Heap Construction\n",
    "# I consider the first node to be indexed to 1, thus all the minus 1's while actually indexing\n",
    "# =============================================================================================\n",
    "\n",
    "key_comps = 0\n",
    "swaps = 0\n",
    "\n",
    "def construct_heap(arr):\n",
    "    heapify(arr, len(arr), 1)\n",
    "    \n",
    "def heapify(heap, heap_size, root):\n",
    "    left = root*2\n",
    "    right = root*2 + 1\n",
    "    \n",
    "    # IF ROOT (THE NODE WE ARE INSPECTING) HAS AT LEAST ONE CHILD\n",
    "    # FIX THE HEAP USING POST-ORDER TREE TRAVERSAL\n",
    "    if left <= heap_size:\n",
    "        heapify(heap, heap_size, left)\n",
    "        heapify(heap, heap_size, right)\n",
    "        fix_heap(heap, heap_size, root, heap[root-1])\n",
    "\n",
    "def fix_heap(heap, heap_size, root, k):\n",
    "    global key_comps, swaps\n",
    "    \n",
    "    # LARGER_CHILD = LEFT CHILD\n",
    "    larger_child = root*2\n",
    "    \n",
    "    # CONTINUE LOOPING AND GOING FURTHER DOWN THE TREE\n",
    "    # UNTIL A DEAD END IS MET - NO MORE CHILDREN\n",
    "    while larger_child <= heap_size:\n",
    "        \n",
    "        # The root node has 2 children. Must compare children.\n",
    "        # If the parent doesn't have a right child (aka the left child is the last in the array)\n",
    "        # Then don't need to compare.\n",
    "        if larger_child < heap_size:\n",
    "            key_comps += 1\n",
    "            if heap[larger_child-1] < heap[larger_child+1-1]:\n",
    "                larger_child += 1\n",
    "        \n",
    "        # IF ROOT_VAL IS LARGER OR EQUAL TO THE LARGER_CHILD, EVERYTHING IS ALREADY IN THE CORRECT POSITION\n",
    "        # BREAK OUT OF THE LOOP.\n",
    "        key_comps += 1\n",
    "        if k >= heap[larger_child-1]:\n",
    "            break\n",
    "        \n",
    "        # ELSE, SWAP ROOT AND LARGER_CHILD AND GO FURTHER DOWN THE TREE\n",
    "        swaps += 1\n",
    "        heap[root-1] = heap[larger_child-1]\n",
    "        root = larger_child\n",
    "        larger_child = root*2\n",
    "    \n",
    "    heap[root-1] = k\n",
    "\n",
    "arr=[5,11,8,2,7,10,4,6,9,3,1]\n",
    "construct_heap(arr)\n",
    "print(\"Swaps:\", swaps)\n",
    "print(\"Key comps:\", key_comps)"
   ]
  },
  {
   "cell_type": "code",
   "execution_count": 12,
   "metadata": {},
   "outputs": [
    {
     "name": "stdout",
     "output_type": "stream",
     "text": [
      "Initially constructed heap: [9, 6, 8, 3, 2, 4] | key_comps: 7\n",
      "[8, 6, 4, 3, 2, 9]\n",
      "[6, 3, 4, 2, 8, 9]\n",
      "[4, 3, 2, 6, 8, 9]\n",
      "[3, 2, 4, 6, 8, 9]\n",
      "[2, 3, 4, 6, 8, 9]\n",
      "Final sorted array: [2, 3, 4, 6, 8, 9] | total key_comps, including construction: 15\n"
     ]
    }
   ],
   "source": [
    "key_comps = 0\n",
    "def heap_sort(arr):\n",
    "    n = len(arr)\n",
    "    \n",
    "    construct_heap(arr)\n",
    "    print(\"Initially constructed heap:\", arr, \"| key_comps:\", key_comps)\n",
    "    \n",
    "    # Remember that at this point, arr is already a max heap\n",
    "    for i in range(n-1, 0, -1):\n",
    "        current_max = arr[0]\n",
    "        fix_heap(heap=arr, heap_size=i, root=1, k=arr[i]) # This is basically deleteMax\n",
    "        arr[i] = current_max\n",
    "        print(arr)\n",
    "\n",
    "# arr = [12, 11, 3, 100, 2, 34, 2, 12, 13, 12]\n",
    "arr = [6,3,8,9,2,4]\n",
    "heap_sort(arr)\n",
    "print(\"Final sorted array:\", arr, \"| total key_comps, including construction:\", key_comps)"
   ]
  }
 ],
 "metadata": {
  "kernelspec": {
   "display_name": "Python 3",
   "language": "python",
   "name": "python3"
  },
  "language_info": {
   "codemirror_mode": {
    "name": "ipython",
    "version": 3
   },
   "file_extension": ".py",
   "mimetype": "text/x-python",
   "name": "python",
   "nbconvert_exporter": "python",
   "pygments_lexer": "ipython3",
   "version": "3.6.8"
  }
 },
 "nbformat": 4,
 "nbformat_minor": 2
}

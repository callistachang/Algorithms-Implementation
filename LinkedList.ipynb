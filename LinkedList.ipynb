{
 "cells": [
  {
   "cell_type": "markdown",
   "metadata": {},
   "source": [
    "# Linked List\n",
    "\n",
    "Time Complexities\n",
    "* Access: O(n)\n",
    "* Search: O(n)\n",
    "* Insert: O(1)\n",
    "* Remove: O(1)"
   ]
  },
  {
   "cell_type": "markdown",
   "metadata": {},
   "source": [
    "## Singly Linked List\n",
    "\n",
    "A linked list in which each node points to the next node and the last node points to null."
   ]
  },
  {
   "cell_type": "code",
   "execution_count": 3,
   "metadata": {},
   "outputs": [],
   "source": [
    "class Node:\n",
    "    def __init__(self, data, next=None):\n",
    "        self.data = data\n",
    "        self.next = next\n",
    "\n",
    "    def __repr__(self):\n",
    "        return str(self.data)\n",
    "\n",
    "\n",
    "class SinglyLinkedList:\n",
    "    def __init__(self, head=None):\n",
    "        self.head = head\n",
    "\n",
    "    @classmethod\n",
    "    def from_list(cls, node_list):\n",
    "        \"\"\"Generate a linked list from a Python list\n",
    "\n",
    "        Args:\n",
    "            node_list (list[int]): Python list of values, e.g. [1, 2, 3]\n",
    "\n",
    "        Returns:\n",
    "            SinglyLinkedList: The generated linked list\n",
    "        \"\"\"\n",
    "        node = Node(node_list.pop(0))\n",
    "        ll = cls(node)\n",
    "        for node_data in node_list:\n",
    "            node.next = Node(node_data)\n",
    "            node = node.next\n",
    "        return ll\n",
    "\n",
    "    def insert(self, node_val):\n",
    "        \"\"\"Insert a node to the end of the linked list\n",
    "\n",
    "        Args:\n",
    "            node_val (int): The value of the new node\n",
    "        \"\"\"\n",
    "        node = self.head\n",
    "        while node.next:\n",
    "            node = node.next\n",
    "        node.next = Node(node_val)\n",
    "\n",
    "    def pop(self):\n",
    "        \"\"\"Remove the first node of the linked list.\n",
    "\n",
    "        Returns:\n",
    "            Node: The removed node\n",
    "        \"\"\"\n",
    "        self.head = self.head.next\n",
    "        return self.head\n",
    "\n",
    "    def __repr__(self):\n",
    "        node = self.head\n",
    "        nodes = []\n",
    "        while node:\n",
    "            nodes.append(str(node.data))\n",
    "            node = node.next\n",
    "        return \" -> \".join(nodes)\n",
    "\n",
    "    def __len__(self):\n",
    "        node = self.head\n",
    "        count = 0\n",
    "        while node:\n",
    "            count += 1\n",
    "            node = node.next\n",
    "        return count"
   ]
  },
  {
   "cell_type": "markdown",
   "metadata": {},
   "source": [
    "Using `SinglyLinkedList` to merge 2 lists:"
   ]
  },
  {
   "cell_type": "code",
   "execution_count": 4,
   "metadata": {},
   "outputs": [],
   "source": [
    "# uses 3 pointers\n",
    "def merge_linked_lists(arr1, arr2):\n",
    "    # convert Python lists to LLs\n",
    "    ll1 = SinglyLinkedList.from_list(arr1)\n",
    "    ll2 = SinglyLinkedList.from_list(arr2)\n",
    "\n",
    "    ll1_ptr = ll1.head\n",
    "    ll2_ptr = ll2.head\n",
    "\n",
    "    # initialize a new LL\n",
    "    res = SinglyLinkedList(Node(0))\n",
    "    # keep\n",
    "    res_ptr = res.head\n",
    "\n",
    "    # while we have not reached the end of the LL, keep adding the smaller node from either LL1 or LL2\n",
    "    while ll1_ptr and ll2_ptr:\n",
    "        if ll1_ptr.data <= ll2_ptr.data:\n",
    "            res_ptr.next = Node(ll1_ptr.data)\n",
    "            ll1_ptr = ll1_ptr.next\n",
    "        else:\n",
    "            res_ptr.next = Node(ll2_ptr.data)\n",
    "            ll2_ptr = ll2_ptr.next\n",
    "        res_ptr = res_ptr.next\n",
    "\n",
    "    # add in the remaining rest of the LL\n",
    "    res_ptr.next = ll1_ptr if ll1_ptr else ll2_ptr\n",
    "\n",
    "    # remove the first node we initialized the linked list with\n",
    "    res.pop()\n",
    "\n",
    "    return res"
   ]
  },
  {
   "cell_type": "code",
   "execution_count": 5,
   "metadata": {},
   "outputs": [
    {
     "data": {
      "text/plain": [
       "1 -> 2 -> 2 -> 3 -> 4 -> 5 -> 6 -> 7 -> 8 -> 10"
      ]
     },
     "execution_count": 5,
     "metadata": {},
     "output_type": "execute_result"
    }
   ],
   "source": [
    "merge_linked_lists([1, 2, 5, 8, 10], [2, 3, 4, 6, 7])"
   ]
  },
  {
   "cell_type": "markdown",
   "metadata": {},
   "source": [
    "## Doubly Linked List\n",
    "\n",
    "Linked list in which each node has two pointers, p and n, such that p points to the previous node and n points to the next node; the last node's n pointer points to null"
   ]
  },
  {
   "cell_type": "code",
   "execution_count": 6,
   "metadata": {},
   "outputs": [],
   "source": [
    "class DoublyLinkedNode:\n",
    "    def __init__(self, data, next=None, prev=None):\n",
    "        self.data = data\n",
    "        self.next = next\n",
    "        self.prev = prev\n",
    "\n",
    "    def __repr__(self):\n",
    "        return str(self.data)\n",
    "\n",
    "\n",
    "class DoublyLinkedList:\n",
    "    def __init__(self, head=None, tail=None):\n",
    "        self.head = head\n",
    "        self.tail = tail\n",
    "\n",
    "    @classmethod\n",
    "    def from_list(cls, node_list):\n",
    "        \"\"\"Generate a linked list from a Python list\n",
    "\n",
    "        Args:\n",
    "            node_list (list[int]): Python list of values, e.g. [1, 2, 3]\n",
    "\n",
    "        Returns:\n",
    "            SinglyLinkedList: The generated linked list\n",
    "        \"\"\"\n",
    "        node = DoublyLinkedNode(node_list.pop(0))\n",
    "        ll = cls(head=node, tail=node)\n",
    "        prev_node = node\n",
    "        for node_data in node_list:\n",
    "            node.next = DoublyLinkedNode(node_data)\n",
    "            node = node.next\n",
    "            node.prev = prev_node\n",
    "            prev_node = node\n",
    "        ll.tail = node\n",
    "        return ll\n",
    "\n",
    "    def pop(self):\n",
    "        \"\"\"Remove the first node of the linked list.\n",
    "\n",
    "        Returns:\n",
    "            DoublyLinkedNode: The removed node\n",
    "        \"\"\"\n",
    "        self.head = self.head.next\n",
    "        self.head.prev = None\n",
    "        return self.head\n",
    "\n",
    "    def insert_end(self, node_val):\n",
    "        \"\"\"Insert a node to the end of the linked list.\n",
    "\n",
    "        Args:\n",
    "            node_val (int): The value of the new node\n",
    "        \"\"\"\n",
    "        new_node = DoublyLinkedNode(node_val, next=None, prev=self.tail)\n",
    "        self.tail.next = new_node\n",
    "        self.tail = new_node\n",
    "\n",
    "    def insert_front(self, node_val):\n",
    "        new_node = DoublyLinkedNode(node_val, next=self.head, prev=None)\n",
    "        self.head.prev = new_node\n",
    "        self.head = new_node\n",
    "\n",
    "    def traverse_backward(self):\n",
    "        node = self.tail\n",
    "        nodes = []\n",
    "        while node:\n",
    "            nodes.append(str(node.data))\n",
    "            node = node.prev\n",
    "        return \" -> \".join(nodes)\n",
    "\n",
    "    def __repr__(self):\n",
    "        node = self.head\n",
    "        nodes = []\n",
    "        while node:\n",
    "            nodes.append(str(node.data))\n",
    "            node = node.next\n",
    "        return \" -> \".join(nodes)\n",
    "\n",
    "    def __len__(self):\n",
    "        node = self.head\n",
    "        count = 0\n",
    "        while node:\n",
    "            count += 1\n",
    "            node = node.next\n",
    "        return count"
   ]
  },
  {
   "cell_type": "code",
   "execution_count": 7,
   "metadata": {},
   "outputs": [
    {
     "name": "stdout",
     "output_type": "stream",
     "text": [
      "7 -> 2 -> 3 -> 4 -> 5\n",
      "5 -> 4 -> 3 -> 2 -> 7\n"
     ]
    }
   ],
   "source": [
    "dll = DoublyLinkedList.from_list([1, 2, 3, 4, 5])\n",
    "dll.pop()\n",
    "dll.insert_front(7)\n",
    "print(dll)\n",
    "print(dll.traverse_backward())"
   ]
  }
 ],
 "metadata": {
  "kernelspec": {
   "display_name": "Python 3",
   "language": "python",
   "name": "python3"
  },
  "language_info": {
   "codemirror_mode": {
    "name": "ipython",
    "version": 3
   },
   "file_extension": ".py",
   "mimetype": "text/x-python",
   "name": "python",
   "nbconvert_exporter": "python",
   "pygments_lexer": "ipython3",
   "version": "3.6.8"
  }
 },
 "nbformat": 4,
 "nbformat_minor": 4
}
